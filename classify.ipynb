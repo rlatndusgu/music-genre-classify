{
 "cells": [
  {
   "cell_type": "code",
   "execution_count": 2,
   "id": "8fe93a31",
   "metadata": {},
   "outputs": [],
   "source": [
    "import pandas as pd\n",
    "import sklearn\n",
    "from sklearn.naive_bayes import GaussianNB\n",
    "from sklearn.metrics import accuracy_score\n",
    "from sklearn.model_selection import train_test_split\n",
    "from sklearn.preprocessing import LabelEncoder\n",
    "\n",
    "df=pd.read_csv(\"audio_features_with_genre.csv\")\n",
    "\n",
    "# 특징과 라벨 분리\n",
    "x = df.drop(columns=['file_name', 'genre'])\n",
    "y = df['genre']\n",
    "\n",
    "# 정규화\n",
    "scaler = sklearn.preprocessing.MinMaxScaler()\n",
    "x_scaled = scaler.fit_transform(x)\n",
    "\n",
    "# 라벨 인코딩\n",
    "le = LabelEncoder()\n",
    "y_encoded = le.fit_transform(y)\n",
    "\n",
    "# 학습/테스트 데이터 분할\n",
    "x_train, x_test, y_train, y_test = train_test_split(x_scaled, y_encoded, test_size=0.2, random_state=42)\n"
   ]
  },
  {
   "cell_type": "code",
   "execution_count": 3,
   "id": "8ad43c8b",
   "metadata": {},
   "outputs": [
    {
     "name": "stdout",
     "output_type": "stream",
     "text": [
      "Naive Bayes 정확도: 0.40\n"
     ]
    }
   ],
   "source": [
    "# Naive Bayes 모델 학습\n",
    "nb = GaussianNB()\n",
    "nb.fit(x_train, y_train)\n",
    "\n",
    "# 예측 및 평가\n",
    "y_pred = nb.predict(x_test)\n",
    "print('Naive Bayes 정확도: %.2f' % accuracy_score(y_test, y_pred))"
   ]
  },
  {
   "cell_type": "code",
   "execution_count": 4,
   "id": "558b43d8",
   "metadata": {},
   "outputs": [
    {
     "name": "stdout",
     "output_type": "stream",
     "text": [
      "Decision Tree 정확도: 0.30\n"
     ]
    }
   ],
   "source": [
    "from sklearn.tree import DecisionTreeClassifier\n",
    "from sklearn.metrics import accuracy_score\n",
    "\n",
    "# 의사결정트리 모델 학습\n",
    "dt = DecisionTreeClassifier(random_state=42)\n",
    "dt.fit(x_train, y_train)\n",
    "\n",
    "# 예측 및 평가\n",
    "y_pred = dt.predict(x_test)\n",
    "print('Decision Tree 정확도: %.2f' % accuracy_score(y_test, y_pred))"
   ]
  },
  {
   "cell_type": "code",
   "execution_count": 5,
   "id": "3ea8e90d",
   "metadata": {},
   "outputs": [
    {
     "name": "stdout",
     "output_type": "stream",
     "text": [
      "SGD 정확도: 0.37\n"
     ]
    }
   ],
   "source": [
    "from sklearn.linear_model import SGDClassifier\n",
    "from sklearn.metrics import accuracy_score\n",
    "\n",
    "# 확률적 경사 하강법모델 학습\n",
    "sgd = SGDClassifier(max_iter=1000, random_state=42)\n",
    "sgd.fit(x_train, y_train)\n",
    "\n",
    "# 예측 및 평가\n",
    "y_pred = sgd.predict(x_test)\n",
    "print('SGD 정확도: %.2f' % accuracy_score(y_test, y_pred))"
   ]
  },
  {
   "cell_type": "code",
   "execution_count": 6,
   "id": "0ca222ba",
   "metadata": {},
   "outputs": [
    {
     "name": "stdout",
     "output_type": "stream",
     "text": [
      "Random Forest 정확도: 0.40\n"
     ]
    }
   ],
   "source": [
    "from sklearn.ensemble import RandomForestClassifier\n",
    "from sklearn.metrics import accuracy_score\n",
    "\n",
    "# 랜덤 포레스트 모델 학습\n",
    "rf = RandomForestClassifier(n_estimators=100, random_state=42)\n",
    "rf.fit(x_train, y_train)\n",
    "\n",
    "# 예측 및 평가\n",
    "y_pred = rf.predict(x_test)\n",
    "print('Random Forest 정확도: %.2f' % accuracy_score(y_test, y_pred))"
   ]
  },
  {
   "cell_type": "code",
   "execution_count": 7,
   "id": "d75e27c9",
   "metadata": {},
   "outputs": [
    {
     "name": "stdout",
     "output_type": "stream",
     "text": [
      "KNN 정확도: 0.3315\n"
     ]
    }
   ],
   "source": [
    "from sklearn.neighbors import KNeighborsClassifier\n",
    "# KNN 모델 학습 (k=5 사용)\n",
    "knn = KNeighborsClassifier(n_neighbors=5)\n",
    "knn.fit(x_train, y_train)\n",
    "\n",
    "# 예측 및 정확도 평가\n",
    "y_pred = knn.predict(x_test)\n",
    "accuracy = accuracy_score(y_test, y_pred)\n",
    "\n",
    "print(f\"KNN 정확도: {accuracy:.4f}\")"
   ]
  },
  {
   "cell_type": "code",
   "execution_count": 9,
   "id": "63d79224",
   "metadata": {},
   "outputs": [
    {
     "name": "stdout",
     "output_type": "stream",
     "text": [
      "Logistic Regression 정확도: 0.43\n"
     ]
    }
   ],
   "source": [
    "from sklearn.linear_model import LogisticRegression\n",
    "from sklearn.metrics import accuracy_score\n",
    "\n",
    "# 로지스틱 회귀 모델 학습\n",
    "lr = LogisticRegression(max_iter=1000, random_state=42)\n",
    "lr.fit(x_train, y_train)\n",
    "\n",
    "# 예측 및 평가\n",
    "y_pred = lr.predict(x_test)\n",
    "print('Logistic Regression 정확도: %.2f' % accuracy_score(y_test, y_pred))"
   ]
  },
  {
   "cell_type": "code",
   "execution_count": 10,
   "id": "cf21318c",
   "metadata": {},
   "outputs": [
    {
     "name": "stdout",
     "output_type": "stream",
     "text": [
      "Neural Network 정확도: 0.31\n"
     ]
    },
    {
     "name": "stderr",
     "output_type": "stream",
     "text": [
      "/Users/kimsooyeon/Desktop/데분개팀플/venv/lib/python3.13/site-packages/sklearn/neural_network/_multilayer_perceptron.py:691: ConvergenceWarning: Stochastic Optimizer: Maximum iterations (1000) reached and the optimization hasn't converged yet.\n",
      "  warnings.warn(\n"
     ]
    }
   ],
   "source": [
    "from sklearn.neural_network import MLPClassifier\n",
    "from sklearn.metrics import accuracy_score\n",
    "\n",
    "# 신경망 모델 학습\n",
    "nn = MLPClassifier(hidden_layer_sizes=(100,), max_iter=1000, random_state=42)\n",
    "nn.fit(x_train, y_train)\n",
    "\n",
    "# 예측 및 평가\n",
    "y_pred = nn.predict(x_test)\n",
    "print('Neural Network 정확도: %.2f' % accuracy_score(y_test, y_pred))"
   ]
  },
  {
   "cell_type": "code",
   "execution_count": 11,
   "id": "cdd78f12",
   "metadata": {},
   "outputs": [
    {
     "name": "stdout",
     "output_type": "stream",
     "text": [
      "SVM 정확도: 0.39\n"
     ]
    }
   ],
   "source": [
    "from sklearn.svm import SVC\n",
    "from sklearn.metrics import accuracy_score\n",
    "\n",
    "# svm 모델 학습\n",
    "svm = SVC(kernel='linear', random_state=42)\n",
    "svm.fit(x_train, y_train)\n",
    "\n",
    "# 예측 및 평가\n",
    "y_pred = svm.predict(x_test)\n",
    "print('SVM 정확도: %.2f' % accuracy_score(y_test, y_pred))"
   ]
  },
  {
   "cell_type": "code",
   "execution_count": 14,
   "id": "2ffa6b18",
   "metadata": {},
   "outputs": [
    {
     "name": "stdout",
     "output_type": "stream",
     "text": [
      "XGBoost 정확도: 0.34\n"
     ]
    }
   ],
   "source": [
    "from xgboost import XGBClassifier\n",
    "from sklearn.metrics import accuracy_score\n",
    "\n",
    "# xgboost 모델 학습\n",
    "xgb = XGBClassifier(n_estimators=1000, learning_rate=0.05)\n",
    "xgb.fit(x_train, y_train)\n",
    "\n",
    "# 예측 및 평가\n",
    "y_pred = xgb.predict(x_test)\n",
    "print('XGBoost 정확도: %.2f' % accuracy_score(y_test, y_pred))"
   ]
  },
  {
   "cell_type": "code",
   "execution_count": 17,
   "id": "712096b7",
   "metadata": {},
   "outputs": [
    {
     "name": "stdout",
     "output_type": "stream",
     "text": [
      "1. Similar_Trot_00765_Cover_Genre_A.wav (유사도: 0.979)\n",
      "2. Similar_Trot_00685_Cover_Genre_A.wav (유사도: 0.975)\n",
      "3. Similar_Trot_00690_Cover_Genre_A.wav (유사도: 0.973)\n",
      "4. Similar_Hiphop_00676_Cover_Genre_A.wav (유사도: 0.970)\n",
      "5. Similar_RnB_00964_Cover_Genre_A.wav (유사도: 0.969)\n"
     ]
    }
   ],
   "source": [
    "import pandas as pd\n",
    "from sklearn.preprocessing import MinMaxScaler, LabelEncoder\n",
    "from sklearn.metrics.pairwise import cosine_similarity\n",
    "\n",
    "\n",
    "# 곡 제목(파일명) 따로 저장\n",
    "song_names = df['file_name']\n",
    "\n",
    "# 특징 벡터 추출\n",
    "x = df.drop(columns=['file_name','genre'])\n",
    "\n",
    "# 정규화\n",
    "scaler = MinMaxScaler()\n",
    "x_scaled = scaler.fit_transform(x)\n",
    "\n",
    "# 유사도 계산\n",
    "similarity_matrix = cosine_similarity(x_scaled)\n",
    "\n",
    "# 유사도 매트릭스를 DataFrame으로 변환\n",
    "similarity_df = pd.DataFrame(similarity_matrix, index=song_names, columns=song_names)\n",
    "\n",
    "# 추천 함수 정의\n",
    "def recommend(song_name, top_n=5):\n",
    "    if song_name not in similarity_df.index:\n",
    "        print(f\"'{song_name}' 이 데이터에 없습니다.\")\n",
    "        return\n",
    "\n",
    "    sims = similarity_df.loc[song_name].drop(index=song_name)\n",
    "    top_similar = sims.sort_values(ascending=False).head(top_n)\n",
    "\n",
    "    for i, (title, score) in enumerate(top_similar.items(), 1):\n",
    "        print(f\"{i}. {title} (유사도: {score:.3f})\")\n",
    "\n",
    "# 예시: 특정 곡과 유사한 곡 추천\n",
    "recommend('Similar_Ballade_00058_Cover_Genre_A.wav')"
   ]
  }
 ],
 "metadata": {
  "kernelspec": {
   "display_name": "Python (venv)",
   "language": "python",
   "name": "venv"
  },
  "language_info": {
   "codemirror_mode": {
    "name": "ipython",
    "version": 3
   },
   "file_extension": ".py",
   "mimetype": "text/x-python",
   "name": "python",
   "nbconvert_exporter": "python",
   "pygments_lexer": "ipython3",
   "version": "3.13.2"
  }
 },
 "nbformat": 4,
 "nbformat_minor": 5
}
